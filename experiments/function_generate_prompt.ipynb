{
 "cells": [
  {
   "cell_type": "code",
   "execution_count": 6,
   "metadata": {},
   "outputs": [],
   "source": [
    "with open('../src/config/book_cover_template.txt') as f:\n",
    "    book_cover_template=f.read()\n",
    "\n",
    "    \n",
    "from dataclasses import dataclass    \n",
    "import abc\n",
    "@dataclass(frozen=True)\n",
    "class Command(abc.ABC):\n",
    "    pass\n",
    "@dataclass(frozen=True)\n",
    "class CreateLeads(Command):\n",
    "    email: str\n",
    "    name: str\n",
    "    city: str\n",
    "    birthday: str\n",
    "    favourite_food: str\n",
    "    likes: str\n",
    "    activities: str\n",
    "    skin_tone: str\n",
    "    hair_color: str\n",
    "    hair_length: str\n",
    "    kids_photo: str\n"
   ]
  },
  {
   "cell_type": "code",
   "execution_count": 8,
   "metadata": {},
   "outputs": [],
   "source": [
    "lead = CreateLeads(\n",
    "    email=\"example@example.com\",\n",
    "    name=\"John Doe\",\n",
    "    city=\"Cityville\",\n",
    "    birthday=\"01/01/1990\",\n",
    "    favourite_food=\"Pizza\",\n",
    "    likes=\"Reading\",\n",
    "    activities=\"Hiking\",\n",
    "    skin_tone=\"Fair\",\n",
    "    hair_color=\"Brown\",\n",
    "    hair_length=\"Medium\",\n",
    "    kids_photo=\"path/to/kids/photo.jpg\"\n",
    ")\n"
   ]
  },
  {
   "cell_type": "code",
   "execution_count": 11,
   "metadata": {},
   "outputs": [
    {
     "name": "stdout",
     "output_type": "stream",
     "text": [
      "Book Cover for John Doe\n",
      "\n",
      "An enchanting story set in the heart of Cityville, where John Doe embarks on a journey of self-discovery. Celebrate with us as we unveil a tale filled with love, adventure, and unforgettable moments.\n",
      "\n",
      "Key Details:\n",
      "- Birthday: 01/01/1990\n",
      "- Favourite Food: Pizza\n",
      "- Preferences: Reading, Hiking\n",
      "- Appearance:\n",
      "  - Skin Tone: Fair\n",
      "  - Hair Color: Brown\n",
      "  - Hair Length: Medium\n",
      "\n",
      "Witness the magic through the eyes of John Doe and their little ones. The cover captures the essence of the story, featuring a heartwarming photo of the family.\n",
      "\n",
      "Get ready for an extraordinary adventure with \"The Chronicles of John Doe!\"\n",
      "\n",
      "[Image: path/to/kids/photo.jpg]\n",
      "\n"
     ]
    }
   ],
   "source": [
    "# Replace placeholders with lead values\n",
    "formatted_book_cover = book_cover_template.replace('{{', '{').replace('}}', '}').format(\n",
    "    name=lead.name,\n",
    "    city=lead.city,\n",
    "    birthday=lead.birthday,\n",
    "    favourite_food=lead.favourite_food,\n",
    "    likes=lead.likes,\n",
    "    activities=lead.activities,\n",
    "    skin_tone=lead.skin_tone,\n",
    "    hair_color=lead.hair_color,\n",
    "    hair_length=lead.hair_length,\n",
    "    kids_photo=lead.kids_photo\n",
    ")\n",
    "\n",
    "\n",
    "print(formatted_book_cover)"
   ]
  },
  {
   "cell_type": "code",
   "execution_count": null,
   "metadata": {},
   "outputs": [],
   "source": []
  }
 ],
 "metadata": {
  "kernelspec": {
   "display_name": "pkb",
   "language": "python",
   "name": "python3"
  },
  "language_info": {
   "codemirror_mode": {
    "name": "ipython",
    "version": 3
   },
   "file_extension": ".py",
   "mimetype": "text/x-python",
   "name": "python",
   "nbconvert_exporter": "python",
   "pygments_lexer": "ipython3",
   "version": "3.11.7"
  }
 },
 "nbformat": 4,
 "nbformat_minor": 2
}
