{
 "cells": [
  {
   "cell_type": "code",
   "execution_count": 3,
   "metadata": {},
   "outputs": [],
   "source": [
    "import os\n",
    "import openai\n",
    "\n",
    "from openai import OpenAI"
   ]
  },
  {
   "cell_type": "code",
   "execution_count": 4,
   "metadata": {},
   "outputs": [],
   "source": [
    "client = OpenAI()"
   ]
  },
  {
   "cell_type": "markdown",
   "metadata": {},
   "source": [
    "## Building our custom chatbot with OpenAI API"
   ]
  },
  {
   "cell_type": "code",
   "execution_count": 3,
   "metadata": {},
   "outputs": [
    {
     "name": "stdout",
     "output_type": "stream",
     "text": [
      "You:  hey there?\n",
      "Assistant: Hello! How can I assist you today?\n",
      "You:  What are you working on?\n",
      "Assistant: As an AI language model, I don't work on projects or tasks in the way humans do. Instead, I'm here to help you with any questions or information you need—a bit like a conversational search engine or a digital assistant. Whether you have questions on a specific topic, need assistance with understanding concepts, or are looking for advice on a variety of subjects, feel free to ask, and I'll do my best to help you out!\n",
      "You:  quit\n"
     ]
    }
   ],
   "source": [
    "while True:\n",
    "    user_input = input(\"You: \")\n",
    "    print('You: ',user_input)\n",
    "    if user_input == \"quit\":\n",
    "        break\n",
    "    chat_response = client.chat.completions.create(\n",
    "        model=\"gpt-4-1106-preview\",\n",
    "        messages=[\n",
    "            {\"role\": \"system\", \"content\": \"You are a helpful assistant.\"},\n",
    "            {\"role\": \"user\", \"content\": user_input}\n",
    "        ],\n",
    "        temperature=0.9,\n",
    "        max_tokens=150,\n",
    "    )\n",
    "    print(\"Assistant:\", chat_response.choices[0].message.content)\n"
   ]
  },
  {
   "cell_type": "markdown",
   "metadata": {},
   "source": [
    "## Adding memory to our chatbot"
   ]
  },
  {
   "cell_type": "code",
   "execution_count": 4,
   "metadata": {},
   "outputs": [
    {
     "name": "stdout",
     "output_type": "stream",
     "text": [
      "You:  remember my name is subramani\n",
      "Assistant: Of course! I will remember that your name is Subramani. How can I assist you today, Subramani?\n",
      "You:  What is covi?\n",
      "Assistant: I believe you are referring to the COVID-19 pandemic, also known as the coronavirus pandemic. COVID-19 is caused by a novel coronavirus called SARS-CoV-2. It was first identified in December 2019 in Wuhan, China and has since spread worldwide, resulting in a global public health crisis. The symptoms of COVID-19 can range from mild to severe, including fever, cough, shortness of breath, fatigue, and loss of taste or smell. It is primarily spread through respiratory droplets when an infected person coughs, sneezes, or talks, or by touching surfaces contaminated with the virus. It is important to follow guidelines and precautions issued by health authorities to prevent the spread of the virus.\n",
      "You:  say my name?\n",
      "Assistant: Your name is Subramani.\n",
      "You:  quit\n"
     ]
    }
   ],
   "source": [
    "messages = [{\"role\": \"system\", \"content\": \"You are a helpful assistant.\"}]\n",
    "\n",
    "while True:\n",
    "    user_input = input(\"You: \")\n",
    "    print('You: ',user_input)\n",
    "    if user_input == \"quit\":\n",
    "        break\n",
    "\n",
    "    messages.append({\"role\": \"user\", \"content\": user_input})\n",
    "    chat_response = client.chat.completions.create(\n",
    "        model=\"gpt-3.5-turbo-0613\",\n",
    "        messages=messages,\n",
    "        temperature=0.9,\n",
    "        max_tokens=150,\n",
    "    )\n",
    "    messages.append({\"role\": \"assistant\", \"content\": chat_response.choices[0].message.content})\n",
    "    print(\"Assistant:\", chat_response.choices[0].message.content)"
   ]
  },
  {
   "cell_type": "markdown",
   "metadata": {},
   "source": [
    "## Getting chatbot to answer based on our document/text"
   ]
  },
  {
   "cell_type": "code",
   "execution_count": 5,
   "metadata": {},
   "outputs": [],
   "source": [
    "dataset=\"\"\"Document content:\n",
    "Question: What is UNDP’s eRecruit system? Answer: UNDP’s eRecruit system is an online system that allows applicants to create a personal profile that can be updated regularly in order to submit applications for more than one advertised UNDP job posting.\n",
    "Question: How do I access UNDP’s eRecruit system? Answer: UNDP’s eRecruit system can be accessed through the following link: https://undpcareers.partneragencies.org/erecruit.html\n",
    "Question: What is process for applying for a job using UNDP’s eRecruit system? Answer: Application Process Application Process\n",
    "Question: Do I have to apply on-line using UNDP’s eRecruit system? Answer: All applications must be submitted online using UNDP’s eRecruit system. Offline paper applications or application sent via e-mail will not be accepted.\n",
    "Question: What browsers are compatible with UNDP’s eRecruit system?Answer: UNDP’s eRecruit system was optimised for Google Chrome, Internet Explorer 6 and above. The usage of Internet Explorer 9 is required in compatibility view mode. We suggest that you use one of these browsers to make sure your application is submitted successfully.\n",
    "Question: I am having problems logging into my profile. The browser is not responding. What should I do? Answer: If you are having problems logging in to your UNDP eRecruit profile in order to apply for a job opening this could stem from a number of reasons, some of which - such as internet connectivity - are outside of UNDP’s control. However, we suggest that you follow these instructions in order to address these types of issues: • Check that you are using the recommended browsers (and versions). • Clear your cache/browser history. You can find information about how to clear your browser history at http://www.refreshyourcache.com/en/home. Please make sure that you are aware of the consequences when clearing the cache in your browser before taking this action.\n",
    "Question: What if I need help using UNDP’s eRecruit system? Answer: For general inquiries or assistance in using UNDP’s eRecruit system, please contact the HelpDesk at https://info.undp.org/sas/erecruit/Assets/HelpDesk.aspx.\n",
    "Question: Why do I need to register? Answer: It is required that all applicants must first register in UNDP’s eRecruit system. After your registration is complete, a personal account is created so that you may complete your personal information and apply to advertised job postings.\n",
    "Question: When registering, what should I use as my username? Answer: It is suggested that you should use a valid e-mail address as your username when registering in the UNDP’s eRecruit system.\n",
    "Question: What password format is accepted? Answer: UNDP encourages the use of strong passwords. Passwords should be a minimum of 8 characters in length and contain a combination of letters and numbers.\n",
    "Question: How can I change my password? Answer: Select the ‘Change Password’ option from the ‘Personal Information’ link after you have logged in to the system. Click on the ‘Forgot User Name or Password?’ link and follow the instructions to retrieve your forgotten password.\n",
    "Question: I have forgotten my password. What should I do? Answer: If you have forgotten your password, click on the link Forgot User ID or Password and complete one of the two options.\n",
    "Question: Will my data be secure? Answer: UNDP’s eRecruit data is stored on a private secure database and UNDP is the owner of the data. The system meets the UNDP's stringent security requirements.\n",
    "Question: Do I have to complete all of the information in each of the sections? Answer: All fields marked with an asterisk (*) are required information and must be completed for each section.\n",
    "Question: Do I need to complete all of the information in one session? Answer: You can save your application at any time during the application process and continue at a later time. When completing a section, we encourage that you use the save button regularly in order to ensure that your information is not lost.\n",
    "Question: How do I select dates using the calendar feature? Answer: Dates can be selected in two ways. You can either A) type the date directly in the field using the dd/mm/yyyy format or B) select the date by clicking on the calendar icon and choose the year month and day.\n",
    "Question: What should I do if my relevant information is not included in one of the drop-down options? Answer: You will be required to choose from the available drop-down options. Please choose the option that is the closest to your personal information, skills and experience.\n",
    "Question: How do I use the Look-up feature? Answer: To use the Look-up feature, click on the magnifying glass icon. After, type in either the full or partial value in the given field and click the button Look Up. Lastly, select the appropriate value from the search result.\n",
    "Question: Is there a spell check feature available? Answer: For various text description fields in each section, a spell click feature is available. To use the spell check feature, click on the dictionary icon to the left of the text field where available.\n",
    "Question\"  Can I apply to a job posting even if I do not meet the minimum requirements? Answer: You will not be able to apply to a job posting if your relevant education, work experience, language skills and possible other qualifications do not meet the minimum requirements specified in the job posting.\n",
    "Question:  Can I review my application before submission? Answer: Once you have clicked on the button submit my application, you will be able to review your full application details before the final submission. If you wish to modify any of the details displayed on the Application Preview page, you may do so by returning to the previous page.\n",
    "Question: How do submit my application? Answer: You will first need to complete all of the required information in the personal profile sections and answer the relevant job-related questions. After, you will be able to submit your application by clicking the button submit my application.\n",
    "Question: The deadline for submitting an application has expired. Can I still apply? Answer: It is essential to submit your application in the eRecruit system before midnight CET time of the job posting’s closing date. Regrettably, we are unable to accept late applications.\n",
    "Question: After I submit my application, will I receive a confirmation? Answer: After you have submitted your application online, you will receive an automated email confirming receipt of your application.\n",
    "Question: Can I revise or amend my application once it has been submitted? Answer: You are able to revise or amend any sections of your personal profile before the job posting’s closing date. Please note that the closing date of all UNDP job postings are effective midnight, CET time.\n",
    "Question: What if I want to submit additional documents to my application? Answer: UNDP does not require that you attach additional documents to your application. However, at any time during the recruitment process, you may be requested by a UNDP Recruitment Specialist to submit additional validating documents to your personal profile in support of your application. If you receive a request to upload specific documents, first navigate to the Careers Home page \u0001 My Career Tools page. Click on Applicant Attachments and add the relevant documents in the attachments section.\n",
    "Question: Can I apply for more than one job posting at the same time? Answer: You may apply to multiple UNDP job postings given that you meet the minimum requirements for each.\n",
    "Question: Is there a fee for submitting my application? Answer: UNDP does not charge any fee at any stage of the recruitment process whether at the application, interview, processing or training stage. UNDP does not require or need to know any information relating to the bank account details of applicants. Any such request should be rejected as these schemes are fraudulent.\n",
    "Question: How can I check on the status of my application? Answer: At all times, you may view the status of the vacancies you have applied. To do so, navigate to the Careers Home page \u0001 My Career Tools \u0001 Applications page. On the My Applications page, you will be able to view the Recruiting Status for each of your applications.\n",
    "\"\"\""
   ]
  },
  {
   "cell_type": "code",
   "execution_count": 6,
   "metadata": {},
   "outputs": [
    {
     "name": "stdout",
     "output_type": "stream",
     "text": [
      "You:  what is UNDP\n",
      "Assistant: UNDP stands for the United Nations Development Programme. It is a global development organization that works in over 170 countries and territories to eradicate poverty, reduce inequalities, and promote sustainable development. UNDP focuses on areas such as poverty reduction, democratic governance, climate change, and crisis prevention and recovery.\n",
      "You:  application\n",
      "Assistant: Are you referring to the application process for UNDP's eRecruit system?\n",
      "You:  yes\n",
      "Assistant: UNDP's eRecruit system is an online platform that allows applicants to create a personal profile and submit applications for various job postings within UNDP. To access the eRecruit system, you can visit the following link: https://undpcareers.partneragencies.org/erecruit.html\n",
      "\n",
      "When applying for a job using UNDP's eRecruit system, you need to create a personal profile and fill in the required information. All applications must be submitted online through the eRecruit system. Offline paper applications or applications sent via email will not be accepted.\n",
      "\n",
      "If you encounter any issues while logging into your profile or using the system, it is recommended to check that you are using the recommended browsers (such as Google Chrome or Internet Explorer 6 and above). Clearing your cache/browser history may also help resolve any browser-related issues.\n",
      "\n",
      "For general inquiries or assistance with using UNDP's eRecruit system, you can contact the HelpDesk at https://info.undp.org/sas/erecruit/Assets/HelpDesk.aspx.\n",
      "\n",
      "Please note that the provided information is based on the document content. If you have any specific questions regarding the application process, feel free to ask.\n",
      "You:  quit\n"
     ]
    }
   ],
   "source": [
    "messages = [{\"role\": \"system\", \"content\": \"\"\"I want you to act as a support agent. Your name is \"My Super Assistant\". You will provide me with answers from the given info. If the answer is not included, say exactly \"Ooops! I don't know that.\" and stop after that. Refuse to answer any question not about the info. Never break character.\"\"\"}]\n",
    "messages.append({\"role\": \"assistant\", \"content\": dataset})\n",
    "while True:\n",
    "    user_input = input(\"You: \")\n",
    "    print(\"You: \",user_input)\n",
    "    if user_input == \"quit\":\n",
    "        break\n",
    "\n",
    "    messages.append({\"role\": \"user\", \"content\": user_input})\n",
    "    chat_response = client.chat.completions.create(\n",
    "        model=\"gpt-3.5-turbo-0613\",\n",
    "        messages=messages,\n",
    "        temperature=0.0,\n",
    "        max_tokens=300,\n",
    "    )\n",
    "    messages.append({\"role\": \"assistant\", \"content\": chat_response.choices[0].message.content})\n",
    "    print(\"Assistant:\", chat_response.choices[0].message.content)"
   ]
  },
  {
   "cell_type": "markdown",
   "metadata": {},
   "source": [
    "## Rough Experiments"
   ]
  },
  {
   "cell_type": "code",
   "execution_count": 19,
   "metadata": {},
   "outputs": [
    {
     "name": "stdout",
     "output_type": "stream",
     "text": [
      "Assistant: 1. \"Brave New World\"\n",
      "2. \"The Road Less Traveled\"\n"
     ]
    }
   ],
   "source": [
    "title='Give me a book titles. Just the title and nothing else'\n",
    "chat_response = client.chat.completions.create(\n",
    "    model=\"gpt-4-1106-preview\",\n",
    "    messages=[\n",
    "        {\"role\": \"system\", \"content\": \"You are a helpful assistant.\"},\n",
    "        {\"role\": \"user\", \"content\": title}\n",
    "    ],\n",
    "    temperature=0.9,\n",
    "    max_tokens=150,\n",
    "    n=2\n",
    ")\n",
    "print(\"Assistant:\", chat_response.choices[0].message.content)"
   ]
  },
  {
   "cell_type": "code",
   "execution_count": 20,
   "metadata": {},
   "outputs": [
    {
     "data": {
      "text/plain": [
       "'1. \"Brave New World\"\\n2. \"The Road Less Traveled\"'"
      ]
     },
     "execution_count": 20,
     "metadata": {},
     "output_type": "execute_result"
    }
   ],
   "source": [
    "chat_response.choices[0].message.content"
   ]
  },
  {
   "cell_type": "code",
   "execution_count": 21,
   "metadata": {},
   "outputs": [
    {
     "data": {
      "text/plain": [
       "'1. \"Sapiens: A Brief History of Humankind\"\\n2. \"The Great Gatsby\"'"
      ]
     },
     "execution_count": 21,
     "metadata": {},
     "output_type": "execute_result"
    }
   ],
   "source": [
    "chat_response.choices[1].message.content"
   ]
  },
  {
   "cell_type": "code",
   "execution_count": null,
   "metadata": {},
   "outputs": [],
   "source": []
  }
 ],
 "metadata": {
  "kernelspec": {
   "display_name": "open_ai",
   "language": "python",
   "name": "python3"
  },
  "language_info": {
   "codemirror_mode": {
    "name": "ipython",
    "version": 3
   },
   "file_extension": ".py",
   "mimetype": "text/x-python",
   "name": "python",
   "nbconvert_exporter": "python",
   "pygments_lexer": "ipython3",
   "version": "3.11.7"
  }
 },
 "nbformat": 4,
 "nbformat_minor": 2
}
